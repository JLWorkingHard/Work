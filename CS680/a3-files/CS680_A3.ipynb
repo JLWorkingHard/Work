{
  "nbformat": 4,
  "nbformat_minor": 0,
  "metadata": {
    "colab": {
      "name": "CS680_A3.ipynb",
      "provenance": [],
      "collapsed_sections": []
    },
    "kernelspec": {
      "name": "python3",
      "display_name": "Python 3"
    },
    "language_info": {
      "name": "python"
    },
    "accelerator": "GPU",
    "gpuClass": "standard"
  },
  "cells": [
    {
      "cell_type": "code",
      "execution_count": null,
      "metadata": {
        "id": "7Nxl-kTvp7ZW"
      },
      "outputs": [],
      "source": [
        "import numpy as np\n",
        "import matplotlib.pyplot as plt\n",
        "##############################exercise 1#######################################\n",
        "#Load data\n",
        "X_train = np.loadtxt('X_train.csv', delimiter=\",\")\n",
        "y_train = np.loadtxt('y_train.csv', delimiter=\",\").astype(int)\n",
        "X_test = np.loadtxt('X_test.csv', delimiter=\",\")\n",
        "y_test = np.loadtxt('y_test.csv', delimiter=\",\").astype(int)\n",
        "data_train = np.c_[X_train,y_train]\n",
        "data_test = np.c_[X_test,y_test]"
      ]
    },
    {
      "cell_type": "code",
      "source": [
        "def same_label_counts(data):\n",
        "  results = {}\n",
        "  for row in data:\n",
        "    key = row[len(row)-1]\n",
        "    if key not in results : results[key] = 0\n",
        "    results[key] += 1\n",
        "  return results\n",
        "def cal_misserr(data):\n",
        "  results = same_label_counts(data)\n",
        "  err = 0\n",
        "  if 1.0 in results.keys():\n",
        "    p = float(results[1.0])/len(data)\n",
        "    if p != 0 and p != 1:\n",
        "      if p <= 1-p:\n",
        "        err = p\n",
        "      else : err = 1-p\n",
        "  elif 0.0 in results.keys():\n",
        "    p = float(results[0.0])/len(data)\n",
        "    if p != 0 and p != 1:\n",
        "      if p <= 1-p:\n",
        "        err = p\n",
        "      else : err = 1-p\n",
        "  return err\n",
        "def cal_gini(data):\n",
        "  results = same_label_counts(data)\n",
        "  gini = 0.0\n",
        "  if 1.0 in results.keys():\n",
        "    p = float(results[1.0])/len(data)\n",
        "    if p != 0 and p != 1:\n",
        "      gini = p*(1-p)\n",
        "  elif 0.0 in results.keys():\n",
        "    p = float(results[0.0])/len(data)\n",
        "    if p != 0 and p != 1:\n",
        "      gini = p*(1-p)\n",
        "  return gini\n",
        "def cal_entropy(data):\n",
        "  from math import log\n",
        "  log2 = lambda x:log(x)/log(2)\n",
        "  results = same_label_counts(data)\n",
        "  ent = 0.0\n",
        "  if 1.0 in results.keys():\n",
        "    p = float(results[1.0])/len(data)\n",
        "    if p != 0 and p != 1:\n",
        "      ent = -p*log2(p)-(1-p)*log2(1-p)\n",
        "  elif 0.0 in results.keys():\n",
        "    p = float(results[0.0])/len(data)\n",
        "    if p != 0 and p != 1:\n",
        "      ent = -p*log2(p)-(1-p)*log2(1-p)\n",
        "  return ent\n",
        "def dividedata(data,col,val):\n",
        "  split_function = lambda row : row[col] >= val\n",
        "  set1 = [row for row in data if split_function(row)]\n",
        "  set2 = [row for row in data if not split_function(row)]\n",
        "  return(set1,set2)\n",
        "#save nodes info\n",
        "class decisionnode:\n",
        "  def __init__(self,col = -1,value = None,results = None,tb = None,fb = None):\n",
        "    self.col = col   #feature been choose\n",
        "    self.value = value #threshold for spliting\n",
        "    self.results = results #a dictionary,key = label, value = number of row with same label\n",
        "    self.tb = tb ## desision node with true split\n",
        "    self.fb = fb ## desision node with false split\n"
      ],
      "metadata": {
        "id": "YDmUy2e7wBIo"
      },
      "execution_count": null,
      "outputs": []
    },
    {
      "cell_type": "code",
      "source": [
        "class DecisionTree:\n",
        "  def __init__(self,max_depth):\n",
        "    self.max_depth = max_depth\n",
        "    self.counts_generation = 1\n",
        "  def build(self, data, scoref):\n",
        "    if len(data) == 0 : return decisionnode()\n",
        "    score = scoref(data)\n",
        "    best_loss = float('inf')\n",
        "    best_criteria = None\n",
        "    best_sets = None\n",
        "    column_count = len(data[0]) - 1\n",
        "    for col in range(column_count):\n",
        "      column_values = {}\n",
        "      for row in data:\n",
        "        column_values[row[col]] = 1\n",
        "      for value in column_values.keys():\n",
        "        (set1,set2) = dividedata(data,col,value)\n",
        "        prob = float(len(set1))/len(data)\n",
        "        loss = prob*scoref(set1) + (1-prob)*scoref(set2)\n",
        "        if loss < best_loss and len(set1) > 0 and len(set2) > 0:\n",
        "          best_loss = loss\n",
        "          best_criteria = (col,value)\n",
        "          best_sets = (set1,set2)\n",
        "    if best_loss < score and self.counts_generation < 2**(self.max_depth):\n",
        "      self.counts_generation += 1\n",
        "      truebranch = self.build(best_sets[0],scoref)\n",
        "      falsebranch = self.build(best_sets[1],scoref)\n",
        "      return decisionnode(col = best_criteria[0],value = best_criteria[1],tb = truebranch,fb = falsebranch)\n",
        "    else: \n",
        "      return decisionnode(results = same_label_counts(data))\n",
        "  def predict(self, data, tree):\n",
        "    if tree.results!= None:\n",
        "      return max(tree.results,key=lambda x : tree.results[x])\n",
        "    else:\n",
        "      v = data[tree.col]\n",
        "      branch = None\n",
        "      if v >= tree.value : branch = tree.tb\n",
        "      else : branch = tree.fb\n",
        "      return self.predict(data,branch)"
      ],
      "metadata": {
        "id": "Deq4iyW1tf29"
      },
      "execution_count": null,
      "outputs": []
    },
    {
      "cell_type": "code",
      "source": [
        "#for misserror method\n",
        "train_acc = []\n",
        "test_acc = []\n",
        "for depth in range(7):\n",
        "  d = DecisionTree(depth)\n",
        "  tree = d.build(data_train,cal_misserr)\n",
        "  count = 0\n",
        "  for i in range(len(data_train)):\n",
        "    if d.predict(data_train[i],tree) == data_train[i][-1]:\n",
        "      count += 1\n",
        "  train_acc.append(count/len(data_train))\n",
        "  count = 0\n",
        "  for i in range(len(data_test)):\n",
        "    if d.predict(data_test[i],tree) == data_test[i][-1]:\n",
        "      count += 1\n",
        "  test_acc.append(count/len(data_test))\n",
        "plt.plot(train_acc)\n",
        "plt.plot(test_acc)\n",
        "plt.legend(['train','test'])\n",
        "plt.xlabel('max depth of the tree')\n",
        "plt.ylabel('accuracy')\n",
        "plt.title('Missclassification error')"
      ],
      "metadata": {
        "colab": {
          "base_uri": "https://localhost:8080/",
          "height": 313
        },
        "id": "tFIIhVw_QmOb",
        "outputId": "f5a691b3-bc89-4866-b7dd-9cbb46ecf82a"
      },
      "execution_count": null,
      "outputs": [
        {
          "output_type": "execute_result",
          "data": {
            "text/plain": [
              "Text(0.5, 1.0, 'Missclassification error')"
            ]
          },
          "metadata": {},
          "execution_count": 101
        },
        {
          "output_type": "display_data",
          "data": {
            "text/plain": [
              "<Figure size 432x288 with 1 Axes>"
            ],
            "image/png": "[encoded data removed]"
          },
          "metadata": {
            "needs_background": "light"
          }
        }
      ]
    },
    {
      "cell_type": "code",
      "source": [
        "#for gini method\n",
        "train_acc = []\n",
        "test_acc = []\n",
        "for depth in range(7):\n",
        "  d = DecisionTree(depth)\n",
        "  tree = d.build(data_train,cal_gini)\n",
        "  count = 0\n",
        "  for i in range(len(data_train)):\n",
        "    if d.predict(data_train[i],tree) == data_train[i][-1]:\n",
        "      count += 1\n",
        "  train_acc.append(count/len(data_train))\n",
        "  count = 0\n",
        "  for i in range(len(data_test)):\n",
        "    if d.predict(data_test[i],tree) == data_test[i][-1]:\n",
        "      count += 1\n",
        "  test_acc.append(count/len(data_test))\n",
        "plt.plot(train_acc)\n",
        "plt.plot(test_acc)\n",
        "plt.legend(['train','test'])\n",
        "plt.xlabel('max depth of the tree')\n",
        "plt.ylabel('accuracy')\n",
        "plt.title('Gini coefficient')"
      ],
      "metadata": {
        "colab": {
          "base_uri": "https://localhost:8080/",
          "height": 313
        },
        "id": "2BcoPUnTotts",
        "outputId": "9ae79826-0ae7-4e7e-dc83-08aac1158001"
      },
      "execution_count": null,
      "outputs": [
        {
          "output_type": "execute_result",
          "data": {
            "text/plain": [
              "Text(0.5, 1.0, 'Gini coefficient')"
            ]
          },
          "metadata": {},
          "execution_count": 103
        },
        {
          "output_type": "display_data",
          "data": {
            "text/plain": [
              "<Figure size 432x288 with 1 Axes>"
            ],
            "image/png": "[encoded data removed]"
          },
          "metadata": {
            "needs_background": "light"
          }
        }
      ]
    },
    {
      "cell_type": "code",
      "source": [
        "#for entropy method\n",
        "train_acc = []\n",
        "test_acc = []\n",
        "for depth in range(7):\n",
        "  d = DecisionTree(depth)\n",
        "  tree = d.build(data_train,cal_entropy)\n",
        "  count = 0\n",
        "  for i in range(len(data_train)):\n",
        "    if d.predict(data_train[i],tree) == data_train[i][-1]:\n",
        "      count += 1\n",
        "  train_acc.append(count/len(data_train))\n",
        "  count = 0\n",
        "  for i in range(len(data_test)):\n",
        "    if d.predict(data_test[i],tree) == data_test[i][-1]:\n",
        "      count += 1\n",
        "  test_acc.append(count/len(data_test))\n",
        "plt.plot(train_acc)\n",
        "plt.plot(test_acc)\n",
        "plt.legend(['train','test'])\n",
        "plt.xlabel('max depth of the tree')\n",
        "plt.ylabel('accuracy')\n",
        "plt.title('Entropy')"
      ],
      "metadata": {
        "colab": {
          "base_uri": "https://localhost:8080/",
          "height": 312
        },
        "id": "BHcXb__9o3lL",
        "outputId": "5520d7f3-4f57-4fcb-faca-c1460d290158"
      },
      "execution_count": null,
      "outputs": [
        {
          "output_type": "execute_result",
          "data": {
            "text/plain": [
              "Text(0.5, 1.0, 'Entropy')"
            ]
          },
          "metadata": {},
          "execution_count": 6
        },
        {
          "output_type": "display_data",
          "data": {
            "text/plain": [
              "<Figure size 432x288 with 1 Axes>"
            ],
            "image/png": "[encoded data removed]"
          },
          "metadata": {
            "needs_background": "light"
          }
        }
      ]
    },
    {
      "cell_type": "code",
      "source": [
        "from random import randrange\n",
        "from collections import Counter\n",
        "import statistics as st\n",
        "#for Boostrap sampling\n",
        "def subsample(data):\n",
        "  sample = []\n",
        "  n_sample = round(len(data))\n",
        "  while len(sample) < n_sample:\n",
        "    index = randrange(len(data))\n",
        "    sample.append(data[index])\n",
        "  return sample\n",
        "BS = []\n",
        "for repeat in range(11):\n",
        "  pred = []\n",
        "  for i in range(101):\n",
        "    s = np.array(subsample(data_train))\n",
        "    d = DecisionTree(3)\n",
        "    tree = d.build(s,cal_entropy)\n",
        "    li = []\n",
        "    for i in range(len(data_test)):\n",
        "      li.append(d.predict(data_test[i],tree))\n",
        "    pred.append(li)\n",
        "  pred = np.array(pred)\n",
        "  final_pred = []\n",
        "  for i in range(pred.shape[1]):\n",
        "    final_pred.append(Counter(pred[:,i]).most_common(1)[0][0])\n",
        "  count = 0\n",
        "  for i in range(len(data_test)):\n",
        "    if final_pred[i] == data_test[i][-1]:\n",
        "      count += 1\n",
        "  BS.append(count/len(data_test))\n",
        "print(st.median(BS))\n",
        "print(min(BS))\n",
        "print(max(BS))"
      ],
      "metadata": {
        "colab": {
          "base_uri": "https://localhost:8080/"
        },
        "id": "4w2_ukth5rMf",
        "outputId": "e4b622ed-c8cf-47bd-b3bb-207b367d8ab7"
      },
      "execution_count": null,
      "outputs": [
        {
          "output_type": "stream",
          "name": "stdout",
          "text": [
            "0.8461538461538461\n",
            "0.8351648351648352\n",
            "0.8681318681318682\n"
          ]
        }
      ]
    },
    {
      "cell_type": "code",
      "source": [
        "from random import randint\n",
        "#for random forest\n",
        "def randlist(n,d):\n",
        "  li = []\n",
        "  count = 0\n",
        "  while count < d:\n",
        "    index = randint(0,n)\n",
        "    if index not in li:\n",
        "      li.append(randint(0,n))\n",
        "      count += 1\n",
        "  return li\n",
        "class RandomForest:\n",
        "  def __init__(self,max_depth):\n",
        "    self.max_depth = max_depth\n",
        "    self.counts_generation = 1\n",
        "  def build(self, data, scoref):\n",
        "    if len(data) == 0 : return decisionnode()\n",
        "    score = scoref(data)\n",
        "    best_loss = float('inf')\n",
        "    best_criteria = None\n",
        "    best_sets = None\n",
        "    column_list = randlist(len(data[0])-1,4)\n",
        "    for col in column_list:\n",
        "      column_values = {}\n",
        "      for row in data:\n",
        "        column_values[row[col]] = 1\n",
        "      for value in column_values.keys():\n",
        "        (set1,set2) = dividedata(data,col,value)\n",
        "        prob = float(len(set1))/len(data)\n",
        "        loss = prob*scoref(set1) + (1-prob)*scoref(set2)\n",
        "        if loss < best_loss and len(set1) > 0 and len(set2) > 0:\n",
        "          best_loss = loss\n",
        "          best_criteria = (col,value)\n",
        "          best_sets = (set1,set2)\n",
        "    if best_loss < score and self.counts_generation < 2**(self.max_depth):\n",
        "      self.counts_generation += 1\n",
        "      truebranch = self.build(best_sets[0],scoref)\n",
        "      falsebranch = self.build(best_sets[1],scoref)\n",
        "      return decisionnode(col = best_criteria[0],value = best_criteria[1],tb = truebranch,fb = falsebranch)\n",
        "    else: \n",
        "      return decisionnode(results = same_label_counts(data))\n",
        "  def predict(self, data, tree):\n",
        "    if tree.results!= None:\n",
        "      return max(tree.results,key=lambda x : tree.results[x])\n",
        "    else:\n",
        "      v = data[tree.col]\n",
        "      branch = None\n",
        "      if v >= tree.value : branch = tree.tb\n",
        "      else : branch = tree.fb\n",
        "      return self.predict(data,branch)\n",
        "BS = []\n",
        "for repeat in range(11):\n",
        "  pred = []\n",
        "  for i in range(101):\n",
        "    s = np.array(subsample(data_train))\n",
        "    d = DecisionTree(3)\n",
        "    tree = d.build(s,cal_entropy)\n",
        "    li = []\n",
        "    for i in range(len(data_test)):\n",
        "      li.append(d.predict(data_test[i],tree))\n",
        "    pred.append(li)\n",
        "  pred = np.array(pred)\n",
        "  final_pred = []\n",
        "  for i in range(pred.shape[1]):\n",
        "    final_pred.append(Counter(pred[:,i]).most_common(1)[0][0])\n",
        "  count = 0\n",
        "  for i in range(len(data_test)):\n",
        "    if final_pred[i] == data_test[i][-1]:\n",
        "      count += 1\n",
        "  BS.append(count/len(data_test))\n",
        "print(st.median(BS))\n",
        "print(min(BS))\n",
        "print(max(BS))"
      ],
      "metadata": {
        "colab": {
          "base_uri": "https://localhost:8080/"
        },
        "id": "y6NDQC5TJpsD",
        "outputId": "97925a90-f597-4a4b-f3aa-911b034c8ca7"
      },
      "execution_count": null,
      "outputs": [
        {
          "output_type": "stream",
          "name": "stdout",
          "text": [
            "0.8571428571428571\n",
            "0.8351648351648352\n",
            "0.8681318681318682\n"
          ]
        }
      ]
    },
    {
      "cell_type": "code",
      "source": [
        "########################Exercise 3###########################################\n",
        "import tensorflow as tf\n",
        "mnist = tf.keras.datasets.mnist\n",
        "(x_train, y_train), (x_test, y_test) = mnist.load_data()\n",
        "x_train, x_test = x_train / 255.0, x_test / 255.0"
      ],
      "metadata": {
        "id": "h-p9LXvp8DHq"
      },
      "execution_count": 15,
      "outputs": []
    },
    {
      "cell_type": "code",
      "source": [
        "import matplotlib.pyplot as plt\n",
        "x_train = tf.transpose(x_train,[1,2,0])\n",
        "x_test = tf.transpose(x_test,[1,2,0])\n",
        "x_train = tf.image.resize(x_train,[32,32])\n",
        "x_test = tf.image.resize(x_test,[32,32])\n",
        "x_train = tf.transpose(x_train,[2,0,1])\n",
        "x_test = tf.transpose(x_test,[2,0,1])"
      ],
      "metadata": {
        "id": "gJ_YrXez-MP_"
      },
      "execution_count": 16,
      "outputs": []
    },
    {
      "cell_type": "code",
      "source": [
        "from tensorflow.keras import datasets, layers, models\n",
        "input_shape = [32,32,1]\n",
        "model = models.Sequential()\n",
        "Conv2D = layers.Conv2D\n",
        "MaxPooling2D = layers.MaxPooling2D\n",
        "Flatten = layers.Flatten\n",
        "Dense = layers.Dense\n",
        "Dropout = layers.Dropout\n",
        "model.add(Conv2D(64, (3, 3), activation='relu', input_shape=input_shape, padding='same'))\n",
        "model.add(MaxPooling2D(pool_size=(2, 2), strides = (2, 2)))\n",
        "model.add(Conv2D(128, (3, 3), activation='relu', padding='same'))\n",
        "model.add(MaxPooling2D(pool_size=(2, 2), strides = (2, 2)))\n",
        "model.add(Conv2D(256, (3, 3), activation='relu', padding='same'))\n",
        "model.add(Conv2D(256, (3, 3), activation='relu', padding='same'))\n",
        "model.add(MaxPooling2D(pool_size=(2, 2), strides = (2, 2)))\n",
        "model.add(Conv2D(512, (3, 3), activation='relu', padding='same'))\n",
        "model.add(Conv2D(512, (3, 3), activation='relu', padding='same'))\n",
        "model.add(MaxPooling2D(pool_size=(2, 2), strides = (2, 2)))\n",
        "model.add(Conv2D(512, (3, 3), activation='relu', padding='same'))\n",
        "model.add(Conv2D(512, (3, 3), activation='relu', padding='same'))\n",
        "model.add(MaxPooling2D(pool_size=(2, 2), strides = (2, 2))) \n",
        "model.add(Flatten()) \n",
        "model.add(Dense(4096, activation='relu'))\n",
        "model.add(Dropout(0.5))\n",
        "model.add(Dense(4096, activation='relu'))\n",
        "model.add(Dropout(0.5))\n",
        "model.add(Dense(10, activation='softmax'))"
      ],
      "metadata": {
        "id": "KyI1Ro_HLA4C"
      },
      "execution_count": 17,
      "outputs": []
    },
    {
      "cell_type": "code",
      "source": [
        "sgd = tf.keras.optimizers.SGD(lr=0.01, decay=1e-6, momentum=0.9, nesterov=True)\n",
        "model.compile(optimizer='sgd',loss=tf.keras.losses.SparseCategoricalCrossentropy(from_logits=True),metrics=['accuracy'])\n",
        "history = model.fit(x_train, y_train, epochs=5, validation_data=(x_test, y_test))"
      ],
      "metadata": {
        "colab": {
          "base_uri": "https://localhost:8080/"
        },
        "id": "ftqVCpe0MldT",
        "outputId": "fc024405-0425-48c9-ab8d-6e0fbcdeaba6"
      },
      "execution_count": 18,
      "outputs": [
        {
          "output_type": "stream",
          "name": "stdout",
          "text": [
            "Epoch 1/5\n"
          ]
        },
        {
          "output_type": "stream",
          "name": "stderr",
          "text": [
            "/usr/local/lib/python3.7/dist-packages/keras/optimizer_v2/gradient_descent.py:102: UserWarning: The `lr` argument is deprecated, use `learning_rate` instead.\n",
            "  super(SGD, self).__init__(name, **kwargs)\n",
            "/usr/local/lib/python3.7/dist-packages/tensorflow/python/util/dispatch.py:1082: UserWarning: \"`sparse_categorical_crossentropy` received `from_logits=True`, but the `output` argument was produced by a sigmoid or softmax activation and thus does not represent logits. Was this intended?\"\n",
            "  return dispatch_target(*args, **kwargs)\n"
          ]
        },
        {
          "output_type": "stream",
          "name": "stdout",
          "text": [
            "1875/1875 [==============================] - 37s 20ms/step - loss: 2.2916 - accuracy: 0.1366 - val_loss: 2.2344 - val_accuracy: 0.2772\n",
            "Epoch 2/5\n",
            "1875/1875 [==============================] - 36s 19ms/step - loss: 0.8421 - accuracy: 0.7145 - val_loss: 0.1849 - val_accuracy: 0.9424\n",
            "Epoch 3/5\n",
            "1875/1875 [==============================] - 36s 19ms/step - loss: 0.1366 - accuracy: 0.9585 - val_loss: 0.1002 - val_accuracy: 0.9685\n",
            "Epoch 4/5\n",
            "1875/1875 [==============================] - 36s 19ms/step - loss: 0.0843 - accuracy: 0.9742 - val_loss: 0.0555 - val_accuracy: 0.9829\n",
            "Epoch 5/5\n",
            "1875/1875 [==============================] - 36s 19ms/step - loss: 0.0637 - accuracy: 0.9802 - val_loss: 0.0539 - val_accuracy: 0.9816\n"
          ]
        }
      ]
    },
    {
      "cell_type": "code",
      "source": [
        "import matplotlib.pyplot as plt\n",
        "#history for accuracy\n",
        "plt.plot(history.history['accuracy'])\n",
        "plt.title('Train Accuracy vs Epochs')\n",
        "plt.ylabel('Accuracy')\n",
        "plt.xlabel('Epochs')\n",
        "plt.show()\n",
        "plt.plot(history.history['val_accuracy'])\n",
        "plt.title('Test Accuracy vs Epochs')\n",
        "plt.ylabel('Accuracy')\n",
        "plt.xlabel('Epochs')\n",
        "plt.show()\n",
        "plt.plot(history.history['loss'])\n",
        "plt.title('Train loss vs Epochs')\n",
        "plt.ylabel('Loss')\n",
        "plt.xlabel('Epochs')\n",
        "plt.show()\n",
        "plt.plot(history.history['val_loss'])\n",
        "plt.title('Test Loss vs Epochs')\n",
        "plt.ylabel('Loss')\n",
        "plt.xlabel('Epochs')\n",
        "plt.show()"
      ],
      "metadata": {
        "colab": {
          "base_uri": "https://localhost:8080/",
          "height": 1000
        },
        "id": "nxeOmcz8rdDN",
        "outputId": "f9bc9164-a35e-4cf8-b6e1-4c59c60e9640"
      },
      "execution_count": 19,
      "outputs": [
        {
          "output_type": "display_data",
          "data": {
            "text/plain": [
              "<Figure size 432x288 with 1 Axes>"
            ],
            "image/png": "[encoded data removed]"
          },
          "metadata": {
            "needs_background": "light"
          }
        },
        {
          "output_type": "display_data",
          "data": {
            "text/plain": [
              "<Figure size 432x288 with 1 Axes>"
            ],
            "image/png": "[encoded data removed]"
          },
          "metadata": {
            "needs_background": "light"
          }
        },
        {
          "output_type": "display_data",
          "data": {
            "text/plain": [
              "<Figure size 432x288 with 1 Axes>"
            ],
            "image/png": "[encoded data removed]"
          },
          "metadata": {
            "needs_background": "light"
          }
        },
        {
          "output_type": "display_data",
          "data": {
            "text/plain": [
              "<Figure size 432x288 with 1 Axes>"
            ],
            "image/png": "[encoded data removed]"
          },
          "metadata": {
            "needs_background": "light"
          }
        }
      ]
    },
    {
      "cell_type": "code",
      "source": [
        "#######c(i)\n",
        "seed = (2, 3)\n",
        "x_test_LR = tf.image.stateless_random_flip_left_right(tf.transpose(x_test,[1,2,0]),seed)\n",
        "x_test_UD = tf.image.stateless_random_flip_up_down(tf.transpose(x_test,[1,2,0]),seed)\n",
        "x_test_LR = tf.transpose(x_test_LR,[2,0,1])\n",
        "x_test_UD = tf.transpose(x_test_UD,[2,0,1])\n",
        "test_loss_LR,test_acc_LR = model.evaluate(x_test_LR,y_test,verbose=1)\n",
        "test_loss_UD,test_acc_UD = model.evaluate(x_test_UD,y_test,verbose=1)\n",
        "print(test_loss_LR)\n",
        "print(test_acc_LR)\n",
        "print(test_loss_UD)\n",
        "print(test_acc_UD)"
      ],
      "metadata": {
        "colab": {
          "base_uri": "https://localhost:8080/"
        },
        "id": "JwFVQmHx8OPL",
        "outputId": "f53c7fa6-c3ae-4ebe-ca72-9b5fb76a2a5d"
      },
      "execution_count": 20,
      "outputs": [
        {
          "output_type": "stream",
          "name": "stdout",
          "text": [
            "313/313 [==============================] - 2s 7ms/step - loss: 4.3446 - accuracy: 0.4025\n",
            "313/313 [==============================] - 2s 6ms/step - loss: 5.2713 - accuracy: 0.3341\n",
            "4.344553470611572\n",
            "0.4025000035762787\n",
            "5.2713093757629395\n",
            "0.33410000801086426\n"
          ]
        }
      ]
    },
    {
      "cell_type": "code",
      "source": [
        "######c(ii)\n",
        "shape = [x_test.shape[0],x_test.shape[1],x_test.shape[2]]\n",
        "noise_001 = tf.random.normal(shape,stddev=0.1)\n",
        "noise_01 = tf.random.normal(shape,stddev=0.316)\n",
        "noise_1 = tf.random.normal(shape,stddev=1)\n",
        "x_test_noise_001 = tf.add(x_test,noise_001)\n",
        "x_test_noise_01 = tf.add(x_test,noise_01)\n",
        "x_test_noise_1 = tf.add(x_test,noise_1)\n",
        "test_loss_noise,test_acc_noise = model.evaluate(x_test_noise_001,y_test,verbose=1)\n",
        "print(test_loss_noise)\n",
        "print(test_acc_noise)\n",
        "test_loss_noise,test_acc_noise = model.evaluate(x_test_noise_01,y_test,verbose=1)\n",
        "print(test_loss_noise)\n",
        "print(test_acc_noise)\n",
        "test_loss_noise,test_acc_noise = model.evaluate(x_test_noise_1,y_test,verbose=1)\n",
        "print(test_loss_noise)\n",
        "print(test_acc_noise)"
      ],
      "metadata": {
        "colab": {
          "base_uri": "https://localhost:8080/"
        },
        "id": "h-V2-wFTDGeK",
        "outputId": "74d5e5fb-a298-4d64-aedd-a9cfbeb80fe2"
      },
      "execution_count": 22,
      "outputs": [
        {
          "output_type": "stream",
          "name": "stdout",
          "text": [
            "313/313 [==============================] - 3s 8ms/step - loss: 0.0561 - accuracy: 0.9815\n",
            "0.0560816265642643\n",
            "0.9815000295639038\n",
            "313/313 [==============================] - 2s 8ms/step - loss: 0.1033 - accuracy: 0.9666\n",
            "0.10328243672847748\n",
            "0.9666000008583069\n",
            "313/313 [==============================] - 2s 7ms/step - loss: 1.5865 - accuracy: 0.6009\n",
            "1.5864946842193604\n",
            "0.6008999943733215\n"
          ]
        }
      ]
    },
    {
      "cell_type": "code",
      "source": [
        "#0.01 variance does not influence much on the test accuracy, so only need train data augmentation in flip way \n",
        "import random\n",
        "new_model = models.Sequential()\n",
        "new_model.add(tf.keras.layers.GaussianNoise(stddev=random.uniform(0,1),input_shape=input_shape))\n",
        "new_model.add(layers.RandomFlip(\"horizontal_and_vertical\",input_shape=input_shape))\n",
        "new_model.add(Conv2D(64, (3, 3), activation='relu', input_shape=input_shape, padding='same'))\n",
        "new_model.add(MaxPooling2D(pool_size=(2, 2), strides = (2, 2)))\n",
        "new_model.add(Conv2D(128, (3, 3), activation='relu', padding='same'))\n",
        "new_model.add(MaxPooling2D(pool_size=(2, 2), strides = (2, 2)))\n",
        "new_model.add(Conv2D(256, (3, 3), activation='relu', padding='same'))\n",
        "new_model.add(Conv2D(256, (3, 3), activation='relu', padding='same'))\n",
        "new_model.add(MaxPooling2D(pool_size=(2, 2), strides = (2, 2)))\n",
        "new_model.add(Conv2D(512, (3, 3), activation='relu', padding='same'))\n",
        "new_model.add(Conv2D(512, (3, 3), activation='relu', padding='same'))\n",
        "new_model.add(MaxPooling2D(pool_size=(2, 2), strides = (2, 2)))\n",
        "new_model.add(Conv2D(512, (3, 3), activation='relu', padding='same'))\n",
        "new_model.add(Conv2D(512, (3, 3), activation='relu', padding='same'))\n",
        "new_model.add(MaxPooling2D(pool_size=(2, 2), strides = (2, 2))) \n",
        "new_model.add(Flatten()) \n",
        "new_model.add(Dense(4096, activation='relu'))\n",
        "new_model.add(Dropout(0.5))\n",
        "new_model.add(Dense(4096, activation='relu'))\n",
        "new_model.add(Dropout(0.5))\n",
        "new_model.add(Dense(10, activation='softmax'))\n",
        "new_model.compile(optimizer='sgd',loss=tf.keras.losses.SparseCategoricalCrossentropy(from_logits=True),metrics=['accuracy'])"
      ],
      "metadata": {
        "id": "5e3qmSNGJ0ET"
      },
      "execution_count": 30,
      "outputs": []
    },
    {
      "cell_type": "code",
      "source": [
        "#d\n",
        "new_history = new_model.fit(x_train, y_train, epochs=5)\n",
        "test_loss_LR,test_acc_LR = new_model.evaluate(x_test_LR,y_test,verbose=1)\n",
        "test_loss_UD,test_acc_UD = new_model.evaluate(x_test_UD,y_test,verbose=1)\n",
        "print(test_loss_LR)\n",
        "print(test_acc_LR)\n",
        "print(test_loss_UD)\n",
        "print(test_acc_UD)\n",
        "test_loss_noise,test_acc_noise = new_model.evaluate(x_test_noise_001,y_test,verbose=1)\n",
        "print(test_loss_noise)\n",
        "print(test_acc_noise)\n",
        "test_loss_noise,test_acc_noise = new_model.evaluate(x_test_noise_01,y_test,verbose=1)\n",
        "print(test_loss_noise)\n",
        "print(test_acc_noise)\n",
        "test_loss_noise,test_acc_noise = new_model.evaluate(x_test_noise_1,y_test,verbose=1)\n",
        "print(test_loss_noise)\n",
        "print(test_acc_noise)"
      ],
      "metadata": {
        "colab": {
          "base_uri": "https://localhost:8080/"
        },
        "id": "Fr-zqRx_NkNc",
        "outputId": "ce1e2df5-09e7-4b17-f0e5-f46fc49133bd"
      },
      "execution_count": 31,
      "outputs": [
        {
          "output_type": "stream",
          "name": "stdout",
          "text": [
            "Epoch 1/5\n"
          ]
        },
        {
          "output_type": "stream",
          "name": "stderr",
          "text": [
            "/usr/local/lib/python3.7/dist-packages/tensorflow/python/util/dispatch.py:1082: UserWarning: \"`sparse_categorical_crossentropy` received `from_logits=True`, but the `output` argument was produced by a sigmoid or softmax activation and thus does not represent logits. Was this intended?\"\n",
            "  return dispatch_target(*args, **kwargs)\n"
          ]
        },
        {
          "output_type": "stream",
          "name": "stdout",
          "text": [
            "1875/1875 [==============================] - 37s 19ms/step - loss: 2.3008 - accuracy: 0.1120\n",
            "Epoch 2/5\n",
            "1875/1875 [==============================] - 35s 19ms/step - loss: 2.2130 - accuracy: 0.1790\n",
            "Epoch 3/5\n",
            "1875/1875 [==============================] - 35s 19ms/step - loss: 1.1777 - accuracy: 0.5662\n",
            "Epoch 4/5\n",
            "1875/1875 [==============================] - 35s 19ms/step - loss: 0.6345 - accuracy: 0.7813\n",
            "Epoch 5/5\n",
            "1875/1875 [==============================] - 36s 19ms/step - loss: 0.3893 - accuracy: 0.8723\n",
            "313/313 [==============================] - 2s 7ms/step - loss: 0.2333 - accuracy: 0.9263\n",
            "313/313 [==============================] - 2s 7ms/step - loss: 0.1929 - accuracy: 0.9392\n",
            "0.2333139181137085\n",
            "0.9262999892234802\n",
            "0.19285358488559723\n",
            "0.9391999840736389\n",
            "313/313 [==============================] - 2s 7ms/step - loss: 0.1974 - accuracy: 0.9390\n",
            "0.19735224545001984\n",
            "0.9390000104904175\n",
            "313/313 [==============================] - 2s 7ms/step - loss: 0.2220 - accuracy: 0.9289\n",
            "0.22202730178833008\n",
            "0.9289000034332275\n",
            "313/313 [==============================] - 2s 7ms/step - loss: 1.1440 - accuracy: 0.6645\n",
            "1.1440215110778809\n",
            "0.6644999980926514\n"
          ]
        }
      ]
    }
  ]
}
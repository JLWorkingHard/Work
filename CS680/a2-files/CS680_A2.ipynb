{
  "nbformat": 4,
  "nbformat_minor": 0,
  "metadata": {
    "colab": {
      "name": "CS680_A2.ipynb",
      "provenance": [],
      "collapsed_sections": []
    },
    "kernelspec": {
      "name": "python3",
      "display_name": "Python 3"
    },
    "language_info": {
      "name": "python"
    }
  },
  "cells": [
    {
      "cell_type": "code",
      "source": [
        "import numpy as np\n",
        "import matplotlib.pyplot as plt\n",
        "from sklearn.svm import SVC\n",
        "import statsmodels.api as sm\n",
        "##########################exercise 2######################################\n",
        "X_train_A = np.loadtxt('./X_train_A.csv', delimiter=\",\")\n",
        "Y_train_A = np.loadtxt('./Y_train_A.csv', delimiter=\",\").astype(int)\n",
        "X_train_B = np.loadtxt('./X_train_B.csv', delimiter=\",\")\n",
        "Y_train_B = np.loadtxt('./Y_train_B.csv', delimiter=\",\").astype(int)\n",
        "X_test_B = np.loadtxt('./X_test_B.csv', delimiter=\",\")\n",
        "Y_test_B = np.loadtxt('./Y_test_B.csv', delimiter=\",\").astype(int)\n",
        "X_train_A = np.mat(X_train_A)\n",
        "Y_train_A = np.mat(Y_train_A).T\n",
        "X_train_B = np.mat(X_train_B)\n",
        "Y_train_B = np.mat(Y_train_B).T\n",
        "X_test_B = np.mat(X_test_B)\n",
        "Y_test_B = np.mat(Y_test_B).T"
      ],
      "metadata": {
        "id": "64vx5VA90zZT"
      },
      "execution_count": 24,
      "outputs": []
    },
    {
      "cell_type": "code",
      "source": [
        "#Question one\n",
        "A_svm_s = SVC(kernel=\"linear\")\n",
        "A_svm_s_mod = A_svm_s.fit(X_train_A, np.array(Y_train_A.T)[0])\n",
        "A_svm_s_coef = A_svm_s.coef_\n",
        "A_svm_h = SVC(C=float(\"inf\"), kernel=\"linear\")\n",
        "A_svm_h_mod = A_svm_h.fit(X_train_A, np.array(Y_train_A.T)[0])"
      ],
      "metadata": {
        "id": "49EZwb6xA51d"
      },
      "execution_count": null,
      "outputs": []
    },
    {
      "cell_type": "code",
      "source": [
        "#for logit regression, get PerfectSeparationError\n",
        "#A_log_model = sm.Logit(Y_train_A, X_train_A).fit()"
      ],
      "metadata": {
        "id": "10RtF7zgscsv"
      },
      "execution_count": 26,
      "outputs": []
    },
    {
      "cell_type": "code",
      "source": [
        "#Question two\n",
        "count_A = 0\n",
        "for i in range(len(X_train_A)) :\n",
        "    pred = (A_svm_s_coef * X_train_A[i].T)[0,0]\n",
        "    pred += A_svm_s.intercept_[0]\n",
        "    if Y_train_A[i,0] == 0:\n",
        "        pred = pred * (-1)\n",
        "    if pred <= 1:\n",
        "        count_A += 1\n",
        "print('the amount of value which is smaller or equal to 1 is {0}'.format(count_A))\n",
        "A_support_vector = np.mat(A_svm_s.support_vectors_)\n",
        "A_support_coef = A_svm_s.dual_coef_\n",
        "print('I require {0} points'.format(A_support_vector.shape[0]))\n",
        "print(A_svm_s.support_)\n",
        "print('resulted w is:\\n {0}'.format(A_support_coef*A_support_vector))"
      ],
      "metadata": {
        "colab": {
          "base_uri": "https://localhost:8080/"
        },
        "id": "7kcqGwzTBD7T",
        "outputId": "34af1c13-19ea-4e9c-dcd2-453859ca6250"
      },
      "execution_count": 27,
      "outputs": [
        {
          "output_type": "stream",
          "name": "stdout",
          "text": [
            "the amount of value which is smaller or equal to 1 is 2000\n",
            "I require 2 points\n",
            "[1999 1998]\n",
            "resulted w is:\n",
            " [[-1.21665426e-01  3.62093715e-04 -8.14547914e-02 -1.30461544e-01\n",
            "   1.03679744e-01 -1.52182440e-01  1.04733167e-01  2.37085565e-02\n",
            "   1.88904300e-01  4.14259231e-01 -5.74918926e-02  2.53091455e-02\n",
            "  -9.57967331e-02  2.78213946e-01  1.26402871e-02  4.24952941e-02\n",
            "  -1.08058239e-01 -3.17898534e-02  3.32288614e-03  1.71401564e-01\n",
            "  -6.93185355e-02 -2.85727264e-01 -1.11431511e-01 -2.81551300e-02\n",
            "   7.14262962e-02  1.98803054e-01 -1.89996218e-01  9.63349060e-02\n",
            "   1.20110591e-01 -5.53355480e-02 -4.29452659e-03 -1.10216493e-01\n",
            "  -1.57449276e-01  3.64106600e-02 -4.35440021e-02 -1.42084333e-01\n",
            "   1.30750877e-01  2.68330435e-02  6.77532548e-02 -3.01716444e-01\n",
            "  -1.22263636e-02  2.15382941e-01  1.26537049e-01  2.24429271e-02\n",
            "   1.34745230e-01  3.23138170e-02  1.47580798e-01  5.67770933e-02\n",
            "   2.91490606e-01 -3.25700173e-02]]\n"
          ]
        }
      ]
    },
    {
      "cell_type": "code",
      "source": [
        "#for data set B\n",
        "B_svm_s = SVC(kernel=\"linear\")\n",
        "B_svm_s_mod = B_svm_s.fit(X_train_B, np.array(Y_train_B.T)[0])\n",
        "B_svm_s_coef = B_svm_s.coef_\n",
        "B_support_vector = np.mat(B_svm_s.support_vectors_)\n",
        "B_support_coef = B_svm_s.dual_coef_\n",
        "B_log_model = sm.Logit(Y_train_B, X_train_B).fit()\n",
        "count_B = 0\n",
        "for i in range(len(X_train_B)) :\n",
        "    pred = (B_svm_s_coef * X_train_B[i].T)[0,0]\n",
        "    pred += B_svm_s.intercept_[0]\n",
        "    if Y_train_B[i,0] == 0:\n",
        "      pred = pred * (-1)\n",
        "    if pred <= 1 + 1e-3:\n",
        "        count_B += 1\n",
        "print('the amount of value which is smaller or equal to 1 is {0}'.format(count_B))\n",
        "B_support_vector = np.mat(B_svm_s.support_vectors_)\n",
        "B_support_coef = B_svm_s.dual_coef_\n",
        "print('I require {0} points'.format(B_support_vector.shape[0]))\n",
        "print(B_svm_s.support_)\n",
        "print('resulted w is:\\n {0}'.format(B_support_coef*B_support_vector))"
      ],
      "metadata": {
        "colab": {
          "base_uri": "https://localhost:8080/"
        },
        "id": "E8NqyDZuKSsB",
        "outputId": "f0273942-68cd-49ae-8f9e-eff859b9b159"
      },
      "execution_count": 28,
      "outputs": [
        {
          "output_type": "stream",
          "name": "stderr",
          "text": [
            "/usr/local/lib/python3.7/dist-packages/sklearn/utils/validation.py:598: FutureWarning: np.matrix usage is deprecated in 1.0 and will raise a TypeError in 1.2. Please convert to a numpy array with np.asarray. For more information see: https://numpy.org/doc/stable/reference/generated/numpy.matrix.html\n",
            "  FutureWarning,\n"
          ]
        },
        {
          "output_type": "stream",
          "name": "stdout",
          "text": [
            "Optimization terminated successfully.\n",
            "         Current function value: 0.030979\n",
            "         Iterations 14\n",
            "the amount of value which is smaller or equal to 1 is 192\n",
            "I require 192 points\n",
            "[   9   17   28   58  111  112  132  168  190  196  233  257  268  276\n",
            "  294  303  355  356  360  449  482  484  503  504  530  542  580  581\n",
            "  582  583  585  602  603  637  669  671  682  703  707  756  856  887\n",
            "  944  957  997 1003 1013 1020 1060 1085 1107 1137 1143 1152 1200 1243\n",
            " 1265 1271 1288 1292 1296 1308 1311 1324 1353 1403 1414 1424 1441 1453\n",
            " 1454 1493 1495 1501 1514 1548 1565 1597 1629 1654 1747 1771 1776 1792\n",
            " 1796 1798 1908 1914 1925 1954 1975 1999   59   74  104  118  172  184\n",
            "  208  210  251  267  280  288  293  319  354  363  366  471  474  496\n",
            "  521  532  533  553  559  577  598  652  672  678  722  729  730  744\n",
            "  764  786  792  793  844  865  903  914  990 1002 1005 1006 1025 1030\n",
            " 1035 1073 1084 1096 1101 1117 1128 1158 1177 1185 1196 1214 1222 1255\n",
            " 1257 1258 1266 1293 1326 1342 1388 1389 1392 1429 1439 1445 1463 1473\n",
            " 1477 1481 1504 1509 1524 1528 1582 1608 1624 1630 1672 1694 1695 1723\n",
            " 1808 1811 1812 1848 1861 1899 1904 1906 1920 1952]\n",
            "resulted w is:\n",
            " [[-0.14883452 -1.33157854 -2.62109121 -0.14008824 -0.01591273 -2.36571773\n",
            "  -0.11301085 -0.33174302  1.25422302  0.12226576  0.71048243 -1.99753926\n",
            "   0.59084758  1.56039593  0.2022904  -0.16566907  0.96702447  1.19357528\n",
            "   1.66424776 -1.98261002  0.46273767  3.02203225 -0.45076031 -1.15875928\n",
            "  -0.57344131 -1.52304994  1.23503273 -0.66182995 -0.0203479   2.09304347\n",
            "   2.14280852 -0.46211822  2.15805064  0.61019298  0.01783408 -0.33238668\n",
            "  -1.60256375  0.25252616  0.08694866  0.36201239 -0.38220834  1.01984528\n",
            "  -0.58570554  0.41533726 -0.73605655 -1.77306584  0.77725884 -0.6126139\n",
            "  -1.89797582 -0.12823335]]\n"
          ]
        }
      ]
    },
    {
      "cell_type": "code",
      "source": [
        "def logit_pred_accuracy(X,y,w):\n",
        "  n,d = X.shape\n",
        "  count = 0\n",
        "  for i in range(n):\n",
        "    pred = 0\n",
        "    if (w*X[i].T)[0][0] > 0.5:\n",
        "      pred = 1\n",
        "    if pred - y[i,0] == 0:\n",
        "      count += 1\n",
        "  return count/n*100\n",
        "def svm_pred_accuracy(X,y,w,b):\n",
        "  n,d = X.shape\n",
        "  count = 0\n",
        "  for i in range(n):\n",
        "    pred = 0\n",
        "    if (w*X[i].T)[0][0] + b > 0:\n",
        "      pred = 1\n",
        "    if pred - y[i,0] == 0:\n",
        "      count += 1\n",
        "  return count/n*100\n",
        "print(logit_pred_accuracy(X_test_B,Y_test_B,B_log_model.params))\n",
        "print(svm_pred_accuracy(X_test_B,Y_test_B,B_support_coef*B_support_vector,B_svm_s.intercept_))"
      ],
      "metadata": {
        "colab": {
          "base_uri": "https://localhost:8080/"
        },
        "id": "BWAT3Rv4ODog",
        "outputId": "3480b630-0ff2-49f4-c675-c5eba1d7b491"
      },
      "execution_count": 29,
      "outputs": [
        {
          "output_type": "stream",
          "name": "stdout",
          "text": [
            "96.89999999999999\n",
            "97.15\n"
          ]
        }
      ]
    },
    {
      "cell_type": "code",
      "source": [
        "#for hardmargin SVM, get ConvergenceWarning\n",
        "#B_svm_h = SVC(C=float(\"inf\"), kernel=\"linear\", max_iter=1000)\n",
        "#B_svm_h_mod = B_svm_h.fit(X_train_B, np.array(Y_train_B.T)[0])\n",
        "#B_svm_h_coef = B_svm_h.coef_"
      ],
      "metadata": {
        "id": "QIOvs56EsK_F"
      },
      "execution_count": 30,
      "outputs": []
    },
    {
      "cell_type": "code",
      "execution_count": 31,
      "metadata": {
        "id": "xBzUKypSNOBc"
      },
      "outputs": [],
      "source": [
        "import numpy as np\n",
        "##########################exercise 3######################################\n",
        "X_train_C = np.loadtxt('./X_train_C.csv',delimiter=',')\n",
        "Y_train_C = np.loadtxt('./Y_train_C.csv',delimiter=',')\n",
        "X_test_C = np.loadtxt('./X_test_C.csv',delimiter=',')\n",
        "Y_test_C = np.loadtxt('./Y_test_C.csv',delimiter=',')\n",
        "X_train_C = np.mat(X_train_C)\n",
        "Y_train_C = np.mat(Y_train_C).T\n",
        "X_test_C = np.mat(X_test_C)\n",
        "Y_test_C = np.mat(Y_test_C).T"
      ]
    },
    {
      "cell_type": "code",
      "source": [
        "def sign_func(xi,yi,w,b):\n",
        "  if yi-(w.T*xi.T+b) > 0:\n",
        "    return 1\n",
        "  if yi-(w.T*xi.T+b) < 0: \n",
        "    return -1\n",
        "def svr_func(X,y,w,b,epis,max_pass,eta,C):\n",
        "  n,d = X.shape\n",
        "  for t in range(max_pass):\n",
        "    for i in range(n):\n",
        "      if abs(y[i,0]-(w.T* X[i,:].T+b)) >= epis:\n",
        "        w = w + eta*C*X[i,:].T*sign_func(X[i,:],y[i,0],w,b)\n",
        "        b = b + eta*C*sign_func(X[i,:],y[i,0],w,b)\n",
        "      w = w/(eta+1)\n",
        "  return w,b\n",
        "def error_func(X,y,w,b,epis,C):\n",
        "  n = X.shape[0]\n",
        "  sum = 0\n",
        "  for i in range(n):\n",
        "    if abs(y[i,0]-(w.T* X[i,:].T+b)) >= epis:\n",
        "      sum += abs(y[i,0]-(w.T* X[i,:].T+b)) - epis\n",
        "  error = C*sum\n",
        "  return error\n",
        "def loss_func(X,y,w,b,epis,C):\n",
        "  return error_func(X,y,w,b,epis,C) + 1/2*w.T*w"
      ],
      "metadata": {
        "id": "B11R6x1QTYsp"
      },
      "execution_count": 32,
      "outputs": []
    },
    {
      "cell_type": "code",
      "source": [
        "w = np.zeros((X_train_C.shape[1],1))\n",
        "b = 0\n",
        "w,b = svr_func(X_train_C,Y_train_C,w,b,epis=0.5,max_pass=1000,eta=0.01,C=1)"
      ],
      "metadata": {
        "id": "-jl-izc1g-KV"
      },
      "execution_count": null,
      "outputs": []
    },
    {
      "cell_type": "code",
      "source": [
        "print(\"train error is {0}\".format(error_func(X_train_C,Y_train_C,w,b,epis=0.5,C=1)))\n",
        "print(\"train loss is {0}\".format(loss_func(X_train_C,Y_train_C,w,b,epis=0.5,C=1)))\n",
        "print(\"test error is {0}\".format(error_func(X_test_C,Y_test_C,w,b,epis=0.5,C=1)))"
      ],
      "metadata": {
        "colab": {
          "base_uri": "https://localhost:8080/"
        },
        "id": "odT3tUVXmAfQ",
        "outputId": "3ed46062-5784-4354-abb0-cebc81526d3f"
      },
      "execution_count": null,
      "outputs": [
        {
          "output_type": "stream",
          "name": "stdout",
          "text": [
            "train error is [[633.41620795]]\n",
            "train loss is [[634.18181599]]\n",
            "test error is [[794.04613278]]\n"
          ]
        }
      ]
    }
  ]
}